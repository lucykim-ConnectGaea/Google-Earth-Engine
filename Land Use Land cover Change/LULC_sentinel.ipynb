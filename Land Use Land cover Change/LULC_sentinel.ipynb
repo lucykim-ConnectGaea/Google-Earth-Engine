{
 "cells": [
  {
   "cell_type": "code",
   "execution_count": 1,
   "id": "8d737e8c",
   "metadata": {},
   "outputs": [
    {
     "data": {
      "text/html": [
       "<p>To authorize access needed by Earth Engine, open the following\n",
       "        URL in a web browser and follow the instructions:</p>\n",
       "        <p><a href=https://code.earthengine.google.com/client-auth?scopes=https%3A//www.googleapis.com/auth/earthengine%20https%3A//www.googleapis.com/auth/devstorage.full_control&request_id=YWu9zDKd1iDKjnk-9yqO-A-L4G987PbAcxa3vYri148&tc=8yTXkAeQd3QJL291ppDleTpWhltwtBoVxHZRXgw0oMQ&cc=X_LSjwQnkkB1iQ1CTigprev10LDyfacD-XA6TBfQ6r8>https://code.earthengine.google.com/client-auth?scopes=https%3A//www.googleapis.com/auth/earthengine%20https%3A//www.googleapis.com/auth/devstorage.full_control&request_id=YWu9zDKd1iDKjnk-9yqO-A-L4G987PbAcxa3vYri148&tc=8yTXkAeQd3QJL291ppDleTpWhltwtBoVxHZRXgw0oMQ&cc=X_LSjwQnkkB1iQ1CTigprev10LDyfacD-XA6TBfQ6r8</a></p>\n",
       "        <p>The authorization workflow will generate a code, which you should paste in the box below.</p>\n",
       "        "
      ],
      "text/plain": [
       "<IPython.core.display.HTML object>"
      ]
     },
     "metadata": {},
     "output_type": "display_data"
    },
    {
     "name": "stdout",
     "output_type": "stream",
     "text": [
      "Enter verification code: 4/1AVHEtk6VawKdGViTU3rR_VHS4vYpILFlvaGBUq4dKxJaFBixVIae0f_fqXc\n",
      "\n",
      "Successfully saved authorization token.\n"
     ]
    }
   ],
   "source": [
    "import ee\n",
    "\n",
    "# Trigger the authentication flow.\n",
    "ee.Authenticate()\n",
    "\n",
    "# Initialize the library.\n",
    "ee.Initialize()"
   ]
  }
 ],
 "metadata": {
  "kernelspec": {
   "display_name": "Python 3 (ipykernel)",
   "language": "python",
   "name": "python3"
  },
  "language_info": {
   "codemirror_mode": {
    "name": "ipython",
    "version": 3
   },
   "file_extension": ".py",
   "mimetype": "text/x-python",
   "name": "python",
   "nbconvert_exporter": "python",
   "pygments_lexer": "ipython3",
   "version": "3.9.13"
  }
 },
 "nbformat": 4,
 "nbformat_minor": 5
}
